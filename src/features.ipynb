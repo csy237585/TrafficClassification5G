{
 "cells": [
  {
   "cell_type": "code",
   "execution_count": 1,
   "metadata": {},
   "outputs": [],
   "source": [
    "import pandas as pd\n",
    "import numpy as np"
   ]
  },
  {
   "cell_type": "code",
   "execution_count": 2,
   "metadata": {},
   "outputs": [],
   "source": [
    "pcap_data = pd.read_csv('./../youtube_data/youtube1.csv')"
   ]
  },
  {
   "cell_type": "code",
   "execution_count": 3,
   "metadata": {},
   "outputs": [],
   "source": [
    "# Filter TCP flows\n",
    "tcp_flows = pcap_data[pcap_data['Protocol'] == 'TCP']\n",
    "\n",
    "# Group TCP flows by source and destination\n",
    "grouped_flows = tcp_flows.groupby(['Source', 'Destination'])"
   ]
  },
  {
   "cell_type": "code",
   "execution_count": 4,
   "metadata": {},
   "outputs": [],
   "source": [
    "# Function to calculate bytes per second (BPS), packets per second (PPS), and average packet length (PLEN)\n",
    "def calculate_features(flow):\n",
    "    time_diff = flow['Time'].diff().fillna(0)  # Time difference between packets\n",
    "    byte_diff = flow['Length'].diff().fillna(0)  # Byte difference between packets\n",
    "    \n",
    "    # Bytes per second (BPS)\n",
    "\n",
    "    flow['BPS'] = byte_diff / time_diff \n",
    "     # Replace NaN and inf with zeros in BPS\n",
    "    flow['BPS'].replace([np.nan, np.inf], 0, inplace=True)\n",
    "    \n",
    "    # Packets per second (PPS)\n",
    "    flow['PPS'] = 1 / time_diff \n",
    "\n",
    "    # Replace NaN and inf with zeros in PPS\n",
    "    flow['PPS'].replace([np.nan, np.inf], 0, inplace=True)\n",
    "    \n",
    "    # Average packet length (PLEN)\n",
    "    flow['PLEN'] = byte_diff / flow['PPS']\n",
    "    flow['PLEN'].replace([np.nan, np.inf], 0, inplace=True)\n",
    "    \n",
    "    return flow\n"
   ]
  },
  {
   "cell_type": "code",
   "execution_count": 5,
   "metadata": {},
   "outputs": [],
   "source": [
    "processed_flows = grouped_flows.apply(calculate_features)"
   ]
  },
  {
   "cell_type": "code",
   "execution_count": 6,
   "metadata": {},
   "outputs": [],
   "source": [
    "processed_flows = processed_flows.drop(columns=['No.', 'Source', 'Destination', 'Protocol', 'Info'])"
   ]
  },
  {
   "cell_type": "code",
   "execution_count": 7,
   "metadata": {},
   "outputs": [],
   "source": [
    "# Set 'Time' as index\n",
    "processed_flows.set_index('Time', inplace=True)"
   ]
  },
  {
   "cell_type": "code",
   "execution_count": 8,
   "metadata": {},
   "outputs": [],
   "source": [
    "\n",
    "\n",
    "# Group by 0.25-second intervals and calculate the mean\n",
    "aggregated_features = processed_flows.groupby(np.ceil(processed_flows.index / .250)).mean().fillna(0)"
   ]
  },
  {
   "cell_type": "code",
   "execution_count": 9,
   "metadata": {},
   "outputs": [
    {
     "data": {
      "text/html": [
       "<div>\n",
       "<style scoped>\n",
       "    .dataframe tbody tr th:only-of-type {\n",
       "        vertical-align: middle;\n",
       "    }\n",
       "\n",
       "    .dataframe tbody tr th {\n",
       "        vertical-align: top;\n",
       "    }\n",
       "\n",
       "    .dataframe thead th {\n",
       "        text-align: right;\n",
       "    }\n",
       "</style>\n",
       "<table border=\"1\" class=\"dataframe\">\n",
       "  <thead>\n",
       "    <tr style=\"text-align: right;\">\n",
       "      <th></th>\n",
       "      <th>Length</th>\n",
       "      <th>BPS</th>\n",
       "      <th>PPS</th>\n",
       "      <th>PLEN</th>\n",
       "    </tr>\n",
       "    <tr>\n",
       "      <th>Time</th>\n",
       "      <th></th>\n",
       "      <th></th>\n",
       "      <th></th>\n",
       "      <th></th>\n",
       "    </tr>\n",
       "  </thead>\n",
       "  <tbody>\n",
       "    <tr>\n",
       "      <th>1.0</th>\n",
       "      <td>66.000000</td>\n",
       "      <td>0.000000</td>\n",
       "      <td>1.042080e+03</td>\n",
       "      <td>0.000000</td>\n",
       "    </tr>\n",
       "    <tr>\n",
       "      <th>13.0</th>\n",
       "      <td>66.000000</td>\n",
       "      <td>0.000000</td>\n",
       "      <td>1.133254e+01</td>\n",
       "      <td>0.000000</td>\n",
       "    </tr>\n",
       "    <tr>\n",
       "      <th>17.0</th>\n",
       "      <td>66.000000</td>\n",
       "      <td>0.000000</td>\n",
       "      <td>3.316174e-01</td>\n",
       "      <td>0.000000</td>\n",
       "    </tr>\n",
       "    <tr>\n",
       "      <th>25.0</th>\n",
       "      <td>168.666667</td>\n",
       "      <td>148885.331384</td>\n",
       "      <td>3.129436e+06</td>\n",
       "      <td>-3.411278</td>\n",
       "    </tr>\n",
       "    <tr>\n",
       "      <th>26.0</th>\n",
       "      <td>66.000000</td>\n",
       "      <td>0.000000</td>\n",
       "      <td>3.278784e+00</td>\n",
       "      <td>0.000000</td>\n",
       "    </tr>\n",
       "    <tr>\n",
       "      <th>...</th>\n",
       "      <td>...</td>\n",
       "      <td>...</td>\n",
       "      <td>...</td>\n",
       "      <td>...</td>\n",
       "    </tr>\n",
       "    <tr>\n",
       "      <th>530.0</th>\n",
       "      <td>66.000000</td>\n",
       "      <td>0.000000</td>\n",
       "      <td>3.456758e+03</td>\n",
       "      <td>0.000000</td>\n",
       "    </tr>\n",
       "    <tr>\n",
       "      <th>532.0</th>\n",
       "      <td>66.000000</td>\n",
       "      <td>0.000000</td>\n",
       "      <td>9.253815e+02</td>\n",
       "      <td>0.000000</td>\n",
       "    </tr>\n",
       "    <tr>\n",
       "      <th>533.0</th>\n",
       "      <td>63.272727</td>\n",
       "      <td>-0.054378</td>\n",
       "      <td>5.295547e+06</td>\n",
       "      <td>-5.471392</td>\n",
       "    </tr>\n",
       "    <tr>\n",
       "      <th>534.0</th>\n",
       "      <td>66.000000</td>\n",
       "      <td>13.347176</td>\n",
       "      <td>6.222180e+00</td>\n",
       "      <td>0.674300</td>\n",
       "    </tr>\n",
       "    <tr>\n",
       "      <th>535.0</th>\n",
       "      <td>66.000000</td>\n",
       "      <td>0.000000</td>\n",
       "      <td>2.710174e+00</td>\n",
       "      <td>0.000000</td>\n",
       "    </tr>\n",
       "  </tbody>\n",
       "</table>\n",
       "<p>445 rows × 4 columns</p>\n",
       "</div>"
      ],
      "text/plain": [
       "           Length            BPS           PPS      PLEN\n",
       "Time                                                    \n",
       "1.0     66.000000       0.000000  1.042080e+03  0.000000\n",
       "13.0    66.000000       0.000000  1.133254e+01  0.000000\n",
       "17.0    66.000000       0.000000  3.316174e-01  0.000000\n",
       "25.0   168.666667  148885.331384  3.129436e+06 -3.411278\n",
       "26.0    66.000000       0.000000  3.278784e+00  0.000000\n",
       "...           ...            ...           ...       ...\n",
       "530.0   66.000000       0.000000  3.456758e+03  0.000000\n",
       "532.0   66.000000       0.000000  9.253815e+02  0.000000\n",
       "533.0   63.272727      -0.054378  5.295547e+06 -5.471392\n",
       "534.0   66.000000      13.347176  6.222180e+00  0.674300\n",
       "535.0   66.000000       0.000000  2.710174e+00  0.000000\n",
       "\n",
       "[445 rows x 4 columns]"
      ]
     },
     "execution_count": 9,
     "metadata": {},
     "output_type": "execute_result"
    }
   ],
   "source": [
    "aggregated_features"
   ]
  },
  {
   "cell_type": "code",
   "execution_count": 10,
   "metadata": {},
   "outputs": [],
   "source": [
    "# Threshold for burst detection\n",
    "# I = 0.5  # I is in seconds\n",
    "I = 2\n"
   ]
  },
  {
   "cell_type": "code",
   "execution_count": 11,
   "metadata": {},
   "outputs": [
    {
     "data": {
      "text/plain": [
       "2"
      ]
     },
     "execution_count": 11,
     "metadata": {},
     "output_type": "execute_result"
    }
   ],
   "source": [
    "I"
   ]
  },
  {
   "cell_type": "code",
   "execution_count": 12,
   "metadata": {},
   "outputs": [],
   "source": [
    "\n",
    "# Initialize variables to store burst series\n",
    "burst_series = []\n",
    "\n",
    "# Initialize variables to keep track of burst\n",
    "burst_start_index = None\n",
    "burst_sum = 0\n",
    "\n",
    "# Iterate through the time series data\n",
    "for i in range(1, len(aggregated_features)):\n",
    "    # Calculate time difference between consecutive points\n",
    "    # time_diff = (aggregated_features.index[i] - aggregated_features.index[i-1]) / 1000  # Convert to seconds\n",
    "    time_diff = (aggregated_features.index[i] - aggregated_features.index[i-1])  # Convert to seconds\n",
    "    \n",
    "    # Check if time difference is less than threshold\n",
    "    if time_diff < I:\n",
    "        # If burst has not started yet, mark the start index\n",
    "        if burst_start_index is None:\n",
    "            burst_start_index = i - 1\n",
    "        \n",
    "        # Add the value of the point to burst sum\n",
    "        burst_sum += aggregated_features.iloc[i]['Length']  # the value of each point in the time series\n",
    "    \n",
    "    else:\n",
    "        # If burst was ongoing, add the burst sum to burst series\n",
    "        if burst_start_index is not None:\n",
    "            burst_series.append(burst_sum)\n",
    "            # Reset burst variables\n",
    "            burst_start_index = None\n",
    "            burst_sum = 0\n",
    "\n",
    "# If burst was ongoing at the end of the time series, add the burst sum to burst series\n",
    "if burst_start_index is not None:\n",
    "    burst_series.append(burst_sum)"
   ]
  },
  {
   "cell_type": "code",
   "execution_count": 13,
   "metadata": {},
   "outputs": [
    {
     "data": {
      "text/plain": [
       "[672.9656565656566,\n",
       " 1188.6666666666667,\n",
       " 8759.204905640161,\n",
       " 1834.7539267015707,\n",
       " 2018.21875,\n",
       " 4082.4797963266046,\n",
       " 9309.142857142857,\n",
       " 4458.818697478991,\n",
       " 4040.850125313283,\n",
       " 5541.816915024836,\n",
       " 2575.0,\n",
       " 3875.703115366482,\n",
       " 66.0,\n",
       " 19341.805000298464,\n",
       " 7473.068849846161,\n",
       " 18625.544228740615,\n",
       " 3950.554821062229,\n",
       " 4195.4595747229705,\n",
       " 2607.5844155844156,\n",
       " 38313.05245124307,\n",
       " 94990.91936556618,\n",
       " 20242.053465421268,\n",
       " 1288.8527131782946,\n",
       " 438829.4428177585,\n",
       " 42933.248084699815,\n",
       " 66.0,\n",
       " 132.0,\n",
       " 396.0,\n",
       " 195.27272727272728]"
      ]
     },
     "execution_count": 13,
     "metadata": {},
     "output_type": "execute_result"
    }
   ],
   "source": [
    "burst_series"
   ]
  },
  {
   "cell_type": "code",
   "execution_count": 14,
   "metadata": {},
   "outputs": [],
   "source": [
    "# Create a custom index based on 250-millisecond intervals\n",
    "custom_index = pd.timedelta_range(start=0, periods=len(burst_series), freq='250ms')\n",
    "# Create a Series with burst_series data and custom index\n",
    "burst_series_with_index = pd.Series(burst_series, index=custom_index)\n",
    "# Resample the Series into 250-millisecond intervals\n",
    "aggregated_bursts = burst_series_with_index.resample('250ms').sum().fillna(0)"
   ]
  },
  {
   "cell_type": "code",
   "execution_count": 15,
   "metadata": {},
   "outputs": [
    {
     "data": {
      "text/plain": [
       "0 days 00:00:00              672.965657\n",
       "0 days 00:00:00.250000      1188.666667\n",
       "0 days 00:00:00.500000      8759.204906\n",
       "0 days 00:00:00.750000      1834.753927\n",
       "0 days 00:00:01             2018.218750\n",
       "0 days 00:00:01.250000      4082.479796\n",
       "0 days 00:00:01.500000      9309.142857\n",
       "0 days 00:00:01.750000      4458.818697\n",
       "0 days 00:00:02             4040.850125\n",
       "0 days 00:00:02.250000      5541.816915\n",
       "0 days 00:00:02.500000      2575.000000\n",
       "0 days 00:00:02.750000      3875.703115\n",
       "0 days 00:00:03               66.000000\n",
       "0 days 00:00:03.250000     19341.805000\n",
       "0 days 00:00:03.500000      7473.068850\n",
       "0 days 00:00:03.750000     18625.544229\n",
       "0 days 00:00:04             3950.554821\n",
       "0 days 00:00:04.250000      4195.459575\n",
       "0 days 00:00:04.500000      2607.584416\n",
       "0 days 00:00:04.750000     38313.052451\n",
       "0 days 00:00:05            94990.919366\n",
       "0 days 00:00:05.250000     20242.053465\n",
       "0 days 00:00:05.500000      1288.852713\n",
       "0 days 00:00:05.750000    438829.442818\n",
       "0 days 00:00:06            42933.248085\n",
       "0 days 00:00:06.250000        66.000000\n",
       "0 days 00:00:06.500000       132.000000\n",
       "0 days 00:00:06.750000       396.000000\n",
       "0 days 00:00:07              195.272727\n",
       "Freq: 250L, dtype: float64"
      ]
     },
     "execution_count": 15,
     "metadata": {},
     "output_type": "execute_result"
    }
   ],
   "source": [
    "aggregated_bursts"
   ]
  },
  {
   "cell_type": "code",
   "execution_count": 16,
   "metadata": {},
   "outputs": [
    {
     "data": {
      "image/png": "[encoded data removed]",
      "text/plain": [
       "<Figure size 640x480 with 1 Axes>"
      ]
     },
     "metadata": {},
     "output_type": "display_data"
    }
   ],
   "source": [
    "\n",
    "import matplotlib.pyplot as plt\n",
    "# Plot the burst series\n",
    "plt.plot(aggregated_bursts.index.total_seconds(), aggregated_bursts.values)\n",
    "plt.xlabel('Time (seconds)')\n",
    "plt.ylabel('Burst Value')\n",
    "plt.title('Burst Series')\n",
    "plt.show()\n"
   ]
  }
 ],
 "metadata": {
  "kernelspec": {
   "display_name": "base",
   "language": "python",
   "name": "python3"
  },
  "language_info": {
   "codemirror_mode": {
    "name": "ipython",
    "version": 3
   },
   "file_extension": ".py",
   "mimetype": "text/x-python",
   "name": "python",
   "nbconvert_exporter": "python",
   "pygments_lexer": "ipython3",
   "version": "3.11.7"
  }
 },
 "nbformat": 4,
 "nbformat_minor": 2
}
